{
 "cells": [
  {
   "attachments": {},
   "cell_type": "markdown",
   "metadata": {},
   "source": [
    " 1- **Explain why selenium is important in web scraping.**\n",
    "- *Selenium* is an automation/Testing software, and in context of web scraping, it automates the web browser of our choice to automate the browser, to surf the internet the way we see fit.\n",
    "- It handles dynamic web content that classical web scraping tools like `beautifulsoap` can't handle.\n",
    "- `Selenium` utilizes a real browser engine to render `JavaScript`, which means it can load and execute scripts on web pages. This is particularly useful for websites that heavily rely on `JavaScript` to generate or modify content.\n",
    "- Capturing screenshots and handling `CAPTCHAs`: Selenium provides features for capturing screenshots of web pages, which can be useful for visual verification or debugging purposes. \n",
    "```python\n",
    "from selenium import webdriver\n",
    "\n",
    "# Set up Selenium webdriver (you need to download the appropriate driver for your browser)\n",
    "driver = webdriver.Chrome('/path/to/chromedriver')  # Replace with the path to your chromedriver executable\n",
    "\n",
    "# Navigate to the website you want to scrape\n",
    "driver.get('https://www.example.com')\n",
    "\n",
    "# Find and interact with elements on the webpage\n",
    "element = driver.find_element_by_css_selector('.class-name')  # Replace with the appropriate CSS selector\n",
    "print(element.text)  # Print the text of the element\n",
    "\n",
    "# Perform actions like clicking buttons or filling out forms\n",
    "button = driver.find_element_by_id('button-id')  # Replace with the ID of the button you want to click\n",
    "button.click()\n",
    "\n",
    "# Extract data from the webpage\n",
    "elements = driver.find_elements_by_xpath('//div[@class=\"item\"]')  # Replace with the appropriate XPath expression\n",
    "for element in elements:\n",
    "    print(element.text)\n",
    "\n",
    "# Close the browser\n",
    "driver.quit()\n",
    "\n",
    "```\n"
   ]
  },
  {
   "cell_type": "code",
   "execution_count": 8,
   "metadata": {},
   "outputs": [],
   "source": [
    "from webdriver_manager.chrome import ChromeDriverManager"
   ]
  },
  {
   "attachments": {},
   "cell_type": "markdown",
   "metadata": {},
   "source": [
    "3. **Explain how MongoDB indexes data.**\n",
    "   - MongoDB indexes data using B-tree structures for efficient searching and retrieval of documents. Indexes can be created on one or more fields, including compound fields, arrays, and embedded documents. MongoDB automatically creates a unique index on the _id field. Index types include single field, compound, multi-key, text, and geospatial indexes. The query optimizer selects the best index based on query predicates and available indexes. MongoDB maintains indexes during data modifications. Effective index design improves query performance, but balancing indexes with write performance is crucial."
   ]
  },
  {
   "attachments": {},
   "cell_type": "markdown",
   "metadata": {},
   "source": [
    "4. **What is the significance of the SET modifier?**\n",
    "   - In MongoDB, updates are typically performed using the $set operator within update operations. The $set operator allows you to modify specific fields or add new fields to a document. It is commonly used in conjunction with other update operators to perform granular updates on specific fields.\n",
    "```python\n",
    "      db.collection.update_one(\n",
    "         { \"_id\": ObjectId(\"6154e8085de0a81fde4be1d4\") },\n",
    "         { \"$set\": { \"field1\": \"new value\", \"field2\": 42 } }\n",
    "      )\n",
    "```"
   ]
  },
  {
   "attachments": {},
   "cell_type": "markdown",
   "metadata": {},
   "source": [
    "5. **Explain the MongoDB aggregation framework.**\n",
    "- MongoDB aggregation framework uses a pipeline model for data processing.\n",
    "- It consists of multiple stages for different operations.\n",
    "- Enables data transformation and aggregation.\n",
    "- Provides rich operators and expressions for flexibility.\n",
    "- Optimized for efficiency with index utilization and parallel processing.\n",
    "- Supports aggregation functions and geospatial operators.\n",
    "- Integrates seamlessly with other MongoDB features.\n",
    "-  It supports a wide range of aggregation functions like `$sum`, `$avg`, `$min`, `$max`, `$push`, `$addToSet`, `$first`, `$last`, and more."
   ]
  }
 ],
 "metadata": {
  "kernelspec": {
   "display_name": "Python 3",
   "language": "python",
   "name": "python3"
  },
  "language_info": {
   "codemirror_mode": {
    "name": "ipython",
    "version": 3
   },
   "file_extension": ".py",
   "mimetype": "text/x-python",
   "name": "python",
   "nbconvert_exporter": "python",
   "pygments_lexer": "ipython3",
   "version": "3.11.4"
  },
  "orig_nbformat": 4
 },
 "nbformat": 4,
 "nbformat_minor": 2
}
