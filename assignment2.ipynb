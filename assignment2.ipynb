{
 "cells": [
  {
   "attachments": {},
   "cell_type": "markdown",
   "metadata": {},
   "source": [
    "1. **Explain three-dimensional data indexing.**\n",
    "   *Answer*: \n",
    "   - 3 Dimensional data indexing means having three subscripts of a data to fetch the exact location of a data member.\n",
    "   - Dataset[ x ][ y ][ z ]. This is how you fetch data from a 3D array.\n",
    "   - 3 Dimensional array has three indexes. A three dimensional array is an arrays of arrays of data."
   ]
  },
  {
   "cell_type": "markdown",
   "metadata": {},
   "source": []
  },
  {
   "attachments": {},
   "cell_type": "markdown",
   "metadata": {},
   "source": [
    "2. **What's the difference between a series and a dataframe?**\n",
    "   - A series is 1 dimensional array, whereas a Dataframe is always treated as 2 dimensional array\n",
    "   - A series shape is immutable whereas a dataframe shape is mutable\n",
    "   - Series supports operations such as indexing, slicing, mathematical operations, and various statistical functions. DataFrame, in addition to supporting the same operations as Series, provides more extensive functionality for data manipulation and analysis. It enables operations like filtering, merging, reshaping, grouping, and aggregation on both columns and rows.\n",
    "   - In terms of memory consumption, Series is generally more memory-efficient than DataFrame since it represents a single column. DataFrame requires additional memory for storing column labels and managing multiple columns. "
   ]
  },
  {
   "cell_type": "code",
   "execution_count": 4,
   "metadata": {},
   "outputs": [
    {
     "name": "stdout",
     "output_type": "stream",
     "text": [
      "(9,)\n",
      "(9, 1)\n"
     ]
    }
   ],
   "source": [
    "x=[1,2,3,4,5,6,78,94,34]\n",
    "import pandas as pd\n",
    "\n",
    "print(\"Series, \", pd.Series(x).shape)\n",
    "print( \"Series,\", pd.DataFrame(x).shape)"
   ]
  },
  {
   "attachments": {},
   "cell_type": "markdown",
   "metadata": {},
   "source": [
    "3. **What role does pandas play in data cleaning?**\n",
    "   - It can do most of the data cleaning.\n",
    "   - `fillna(value)` to NaN datas with preferred value.\n",
    "   - ` astype(<type>)` to convert columns into preffered type.\n",
    "   - ` apply()`,`replace()`,`map()` for data transformation.\n",
    "   - `quantile()`,`std()`,`clip()` to remoe outliers.\n",
    "  "
   ]
  },
  {
   "attachments": {},
   "cell_type": "markdown",
   "metadata": {},
   "source": [
    "4. **How do you use pandas to make a data frame out of n-dimensional arrays?**\n",
    "   - You can use df.reshape to reshape nad flatten n-dimenstional array into 2D pandas compliant array"
   ]
  },
  {
   "cell_type": "code",
   "execution_count": 20,
   "metadata": {},
   "outputs": [
    {
     "name": "stdout",
     "output_type": "stream",
     "text": [
      "            0         1         2         3         4         5\n",
      "0    0.923243  0.348714  0.571673  0.118700  0.405211  0.114435\n",
      "1    0.083308  0.936542  0.194497  0.514390  0.463091  0.160056\n",
      "2    0.670513  0.319754  0.233458  0.662897  0.105264  0.937565\n",
      "3    0.544134  0.494356  0.336900  0.136137  0.076031  0.326667\n",
      "4    0.010911  0.881241  0.566557  0.631667  0.135719  0.272406\n",
      "..        ...       ...       ...       ...       ...       ...\n",
      "115  0.208845  0.114980  0.620544  0.613881  0.885816  0.501554\n",
      "116  0.001523  0.611442  0.176092  0.230969  0.411611  0.962826\n",
      "117  0.719511  0.859928  0.926349  0.342418  0.207259  0.386546\n",
      "118  0.724131  0.292771  0.363117  0.650198  0.370208  0.935191\n",
      "119  0.287537  0.123107  0.925562  0.858583  0.202244  0.028959\n",
      "\n",
      "[120 rows x 6 columns]\n"
     ]
    }
   ],
   "source": [
    "import pandas as pd\n",
    "import numpy as np\n",
    "\n",
    "# Create a 5D numpy array\n",
    "arr_5d = np.random.rand(2, 3, 4, 5, 6)  # Example 5D array of shape (2, 3, 4, 5, 6)\n",
    "\n",
    "# Reshape the 5D array into a 2D array\n",
    "arr_2d = arr_5d.reshape(-1, arr_5d.shape[-1])  # Reshape into a 2D array with the last dimension as columns\n",
    "\n",
    "# Create a DataFrame from the reshaped 2D array\n",
    "df = pd.DataFrame(arr_2d)\n",
    "\n",
    "print(df)\n",
    "\n"
   ]
  },
  {
   "attachments": {},
   "cell_type": "markdown",
   "metadata": {},
   "source": [
    "5. **Explain the notion of pandas plotting.**\n",
    "   - pandas internally supports plotting, using df.plot(). \n",
    "   - It allows you to generate visualizations directly from pandas data structures, such as Series and DataFrames, without the need for additional plotting libraries.\n",
    "   - Pandas plotting leverages the matplotlib library as the underlying engine for creating the plots."
   ]
  },
  {
   "cell_type": "code",
   "execution_count": 19,
   "metadata": {},
   "outputs": [
    {
     "data": {
      "image/png": "[encoded data removed]",
      "text/plain": [
       "<Figure size 640x480 with 1 Axes>"
      ]
     },
     "metadata": {},
     "output_type": "display_data"
    }
   ],
   "source": [
    "import pandas as pd\n",
    "import numpy as np\n",
    "import matplotlib.pyplot as plt\n",
    "\n",
    "# Create a DataFrame with random data\n",
    "df = pd.DataFrame(np.random.normal(1, 2,100), columns=['A'])\n",
    "\n",
    "# Plot a line plot of the DataFrame\n",
    "df.plot(kind='hist',density=True)\n",
    "\n",
    "# Show the plot\n",
    "plt.show()\n"
   ]
  }
 ],
 "metadata": {
  "kernelspec": {
   "display_name": "Python 3",
   "language": "python",
   "name": "python3"
  },
  "language_info": {
   "codemirror_mode": {
    "name": "ipython",
    "version": 3
   },
   "file_extension": ".py",
   "mimetype": "text/x-python",
   "name": "python",
   "nbconvert_exporter": "python",
   "pygments_lexer": "ipython3",
   "version": "3.11.4"
  },
  "orig_nbformat": 4
 },
 "nbformat": 4,
 "nbformat_minor": 2
}
