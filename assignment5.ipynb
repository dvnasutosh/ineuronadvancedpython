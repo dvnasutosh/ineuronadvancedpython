{
 "cells": [
  {
   "attachments": {},
   "cell_type": "markdown",
   "metadata": {},
   "source": [
    "1. **Explain `super()` in the context of inheritance.**\n",
    "   - `super()`, in the context of inheritnce, is used to access the member of a parent class through the object.\n",
    " "
   ]
  },
  {
   "cell_type": "code",
   "execution_count": 9,
   "metadata": {},
   "outputs": [
    {
     "name": "stdout",
     "output_type": "stream",
     "text": [
      "Child\n",
      "222\n",
      "222\n"
     ]
    }
   ],
   "source": [
    "class Parent:\n",
    "    mem1:int=2\n",
    "    mem2='232'\n",
    "    def mthd1(self):\n",
    "        print(\"parent\")\n",
    "    def m2(self):\n",
    "        print(self.mem2)\n",
    "class Child(Parent):\n",
    "    mem2='222'\n",
    "    \n",
    "    def mthd1(self):\n",
    "        print(\"Child\")\n",
    "        super().m2()\n",
    "\n",
    "ch1=Child()\n",
    "ch1.mthd1()\n",
    "super(Child,ch1).m2()"
   ]
  },
  {
   "attachments": {},
   "cell_type": "markdown",
   "metadata": {},
   "source": [
    "2. **Describe the file-handling system.**\n",
    "   \n",
    "   Certainly! Here's a shorter and point-wise description of the file handling system in Python:\n",
    "\n",
    "   1. Opening a file: Use the `open()` function to open a file, specifying the file path and mode (\"r\" for reading, \"w\" for writing, \"a\" for appending, or \"x\" for exclusive creation).\n",
    "\n",
    "   2. Reading from a file: Use methods like `read()`, `readline()`, or `readlines()` to read the file's contents.\n",
    "\n",
    "   3. Writing to a file: If a file is open in write mode, use the `write()` method to write data, or `writelines()` to write multiple lines.\n",
    "\n",
    "   4. Closing a file: After working with a file, close it using the `close()` method to release system resources.\n",
    "\n",
    "   5. Context manager: Use the file object as a context manager with the `with` statement to ensure proper handling, including automatic closing.\n",
    "\n",
    "   6. File positioning: Use `seek()` to change the position within the file and `tell()` to get the current position.\n",
    "\n",
    "   7. File metadata: Access file metadata using functions like `os.path.getsize()` and `os.path.getmtime()` from the `os` module."
   ]
  },
  {
   "attachments": {},
   "cell_type": "markdown",
   "metadata": {},
   "source": [
    "3. **In Python, explain multiple inheritance.**\n",
    "   Multiple inheritance, means inheriting more than one Parent classes, as such that the members from both parent classes would be accessed throught the child class object.\n"
   ]
  },
  {
   "cell_type": "code",
   "execution_count": 11,
   "metadata": {},
   "outputs": [
    {
     "name": "stdout",
     "output_type": "stream",
     "text": [
      "Method from ParentClass3\n",
      "Method from ParentClass2\n"
     ]
    }
   ],
   "source": [
    "class ParentClass1:\n",
    "    def mtd(self):\n",
    "        print(\"Method from ParentClass1\")\n",
    "\n",
    "class ParentClass2:\n",
    "    def mtd(self):\n",
    "        print(\"Method from ParentClass2\")\n",
    "class ParentClass3:\n",
    "    def mtd(self):\n",
    "        print(\"Method from ParentClass3\")\n",
    "\n",
    "class ChildClass(ParentClass1, ParentClass2,ParentClass3):\n",
    "    def printParent(self):\n",
    "        print('child')\n",
    "        # super(ParentClass1,self)\n",
    "\n",
    "child = ChildClass()\n",
    "\n",
    "super(ParentClass2, child).mtd()\n",
    "super(ParentClass1, child).mtd()"
   ]
  },
  {
   "attachments": {},
   "cell_type": "markdown",
   "metadata": {},
   "source": [
    "4. **Write the MySQL query syntax for INSERT, UPDATE, and DROP.**\n",
    "    - INSERT QUERY\n",
    "      ```SQL\n",
    "                INSERT INTO employees (`name`, `age`, `department`) VALUES ('Nidh Acharya', 30, 'IT'),('Asutosh Rath',22,'IT');\n",
    "        ```\n",
    "    - UPDATE QUERY\n",
    "      ```SQL\n",
    "            UPDATE employees SET age = 31, department = 'Finance' WHERE id = 1;\n",
    "        ```\n",
    "    - DROP QUERY\n",
    "     ```SQL\n",
    "            DROP TABLE table_name;\n",
    "      ```\n",
    "     \n",
    "\n",
    "       \n"
   ]
  },
  {
   "attachments": {},
   "cell_type": "markdown",
   "metadata": {},
   "source": [
    "5. **Describe MongoDB's features.**\n",
    "    1. Document-oriented storage with JSON-like documents.\n",
    "    2. Horizontal scalability and sharding for large-scale deployments.\n",
    "    3. NoSQL database with flexible schema design.\n",
    "    4. High availability through replication and automatic failover.\n",
    "    5. Easy data model evolution without complex migrations.\n",
    "    6. Powerful indexing and querying capabilities.\n",
    "    7. Support for ACID transactions.\n",
    "    8. Built-in geospatial capabilities for location-based data.\n",
    "\n",
    "These points provide a concise overview of the key features offered by MongoDB."
   ]
  }
 ],
 "metadata": {
  "kernelspec": {
   "display_name": "Python 3",
   "language": "python",
   "name": "python3"
  },
  "language_info": {
   "codemirror_mode": {
    "name": "ipython",
    "version": 3
   },
   "file_extension": ".py",
   "mimetype": "text/x-python",
   "name": "python",
   "nbconvert_exporter": "python",
   "pygments_lexer": "ipython3",
   "version": "3.11.4"
  },
  "orig_nbformat": 4
 },
 "nbformat": 4,
 "nbformat_minor": 2
}
