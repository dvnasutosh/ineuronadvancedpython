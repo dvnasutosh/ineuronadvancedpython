{
 "cells": [
  {
   "attachments": {},
   "cell_type": "markdown",
   "metadata": {},
   "source": [
    "**1. What makes NumPy.shape() different from NumPy.size()?**"
   ]
  },
  {
   "cell_type": "code",
   "execution_count": 2,
   "metadata": {},
   "outputs": [
    {
     "data": {
      "text/plain": [
       "(11,)"
      ]
     },
     "execution_count": 2,
     "metadata": {},
     "output_type": "execute_result"
    }
   ],
   "source": [
    "import numpy as np\n",
    "data= np.array([1,2,3,4,5,6,7,8,9,8,88])\n",
    "np.size(data)   # np.size() Returns the size of the given axis(default 1) of the given array(or array-like) data. \n",
    "np.shape(data)  # np.shape() Returns the shape of the provided array or array like dataset. i.e. It returns a tuple with length of each exis of the given dataset as its members.\n"
   ]
  },
  {
   "attachments": {},
   "cell_type": "markdown",
   "metadata": {},
   "source": [
    "**2. In NumPy, describe the idea of broadcasting.**\n",
    "   <br>Answer: Broadcasting means the ability of numpy arrrays to indulge in arithmetic operation, even if their shapes are different\n",
    "   1. If the arrays have different numbers of dimensions, the array with fewer dimensions is padded with ones on its leading (left) side.\n",
    "\n",
    "   2. If the sizes of the corresponding dimensions are different, but one of them is equal to 1, then the array with size 1 is stretched or \"broadcasted\" to match the size of the other array along that dimension.\n",
    "\n",
    "   3. If the sizes of the corresponding dimensions are different and neither of them is equal to 1, then the operation is not possible, and a \"ValueError\" is raised."
   ]
  },
  {
   "cell_type": "code",
   "execution_count": 8,
   "metadata": {},
   "outputs": [
    {
     "name": "stdout",
     "output_type": "stream",
     "text": [
      "[[11 12 13]\n",
      " [21 22 23]]\n"
     ]
    },
    {
     "data": {
      "text/plain": [
       "array([[11, 12, 13],\n",
       "       [21, 22, 23]])"
      ]
     },
     "execution_count": 8,
     "metadata": {},
     "output_type": "execute_result"
    }
   ],
   "source": [
    "import numpy as np\n",
    "\n",
    "a = np.array([1, 2, 3])     # shape: (3,)\n",
    "b = np.array([[10], [20]])  # shape: (2, 1)\n",
    "\n",
    "\n",
    "a+b"
   ]
  },
  {
   "cell_type": "code",
   "execution_count": 10,
   "metadata": {},
   "outputs": [
    {
     "ename": "ValueError",
     "evalue": "operands could not be broadcast together with shapes (3,) (2,) ",
     "output_type": "error",
     "traceback": [
      "\u001b[1;31m---------------------------------------------------------------------------\u001b[0m",
      "\u001b[1;31mValueError\u001b[0m                                Traceback (most recent call last)",
      "Cell \u001b[1;32mIn[10], line 3\u001b[0m\n\u001b[0;32m      1\u001b[0m a \u001b[39m=\u001b[39m np\u001b[39m.\u001b[39marray([\u001b[39m1\u001b[39m, \u001b[39m2\u001b[39m, \u001b[39m3\u001b[39m])     \u001b[39m# shape: (3,)\u001b[39;00m\n\u001b[0;32m      2\u001b[0m b \u001b[39m=\u001b[39m np\u001b[39m.\u001b[39marray([\u001b[39m10\u001b[39m, \u001b[39m20\u001b[39m])      \u001b[39m# shape: (2,)\u001b[39;00m\n\u001b[1;32m----> 3\u001b[0m a\u001b[39m+\u001b[39;49mb\n",
      "\u001b[1;31mValueError\u001b[0m: operands could not be broadcast together with shapes (3,) (2,) "
     ]
    }
   ],
   "source": [
    "a = np.array([1, 2, 3])     # shape: (3,)\n",
    "b = np.array([10, 20])      # shape: (2,)\n",
    "a+b\n",
    "# This will show an error"
   ]
  },
  {
   "attachments": {},
   "cell_type": "markdown",
   "metadata": {},
   "source": [
    "**3. What makes Python better than other libraries for numerical computation?**\n",
    "\n",
    "Answer.\n",
    "\n",
    "If you meant `Numpy`: -> <br>\n",
    "1. It has a huge ecosystem of developers. So support is easily available .\n",
    "2. It is compatible with other major libraries like `pandas`, `statistics`, `scikit`.\n",
    "3. It is heavily optimised and very flexible with features like `broadcasting`.\n",
    "\n",
    "\n",
    "if you meant Python: -><br>        \n",
    "1. It is the most popular language of 2023. \n",
    "2. It has a huge ecosystem, tus getting support will be extremely fast and easy.\n",
    "3. It has highly optimised and specific numerical calculation libraries for every niche. like, `scikit`, `numpy`, `statistics`.\n",
    "4. These libraries are heavily optimised too.\n"
   ]
  },
  {
   "attachments": {},
   "cell_type": "markdown",
   "metadata": {},
   "source": [
    "**4. How does NumPy deal with files?**\n",
    "\n",
    "It uses various functions like\n",
    "   - `numpy.loadtxt()`: This function reads data from a text file and returns an array. It is flexible and can handle different file formats, including CSV (Comma-Separated Values).\n",
    "   - `numpy.genfromtxt()`: Similar to `loadtxt()`, this function reads data from text files, but it handles missing values and more complex data structures.\n",
    "   - `numpy.fromfile()`: This function reads binary data from a file and returns an array.\n",
    "    - `numpy.savetxt()`: This function saves an array to a text file, with options to specify the delimiter and formatting.\n",
    "   - `numpy.ndarray.tofile()`: This method writes the array data to a file in binary format.\n",
    "   - `numpy.save()`: This function saves an array to a binary file in NumPy's `.npy` format."
   ]
  },
  {
   "attachments": {},
   "cell_type": "markdown",
   "metadata": {},
   "source": [
    "**5. Mention the importance of NumPy.empty().**\n",
    "\n",
    "The `numpy.empty()` function is an important tool in NumPy as it creates a new array without initializing its elements to any specific values. Here are the key points highlighting the importance of `numpy.empty()`:\n",
    "\n",
    "   1. Memory efficiency: The `numpy.empty()` function allocates memory for the array without initializing the elements. \n",
    "\n",
    "   2. Performance optimization: By avoiding the initialization of array elements, `numpy.empty()` allows for potential performance improvements. \n",
    "   3. Flexibility: `numpy.empty()` provides flexibility by allowing you to create arrays of a specific shape and data type. \n"
   ]
  }
 ],
 "metadata": {
  "kernelspec": {
   "display_name": "Python 3",
   "language": "python",
   "name": "python3"
  },
  "language_info": {
   "codemirror_mode": {
    "name": "ipython",
    "version": 3
   },
   "file_extension": ".py",
   "mimetype": "text/x-python",
   "name": "python",
   "nbconvert_exporter": "python",
   "pygments_lexer": "ipython3",
   "version": "3.11.4"
  },
  "orig_nbformat": 4
 },
 "nbformat": 4,
 "nbformat_minor": 2
}
