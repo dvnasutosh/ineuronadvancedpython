{
 "cells": [
  {
   "attachments": {},
   "cell_type": "markdown",
   "metadata": {},
   "source": [
    "\n",
    "\n",
    "1. **Explain the differences between Cassandra and typical databases.**\n",
    "\n",
    "- **Data Model**: Cassandra follows a distributed wide-column data model, while typical databases use a relational data model with tables and predefined schemas.\n",
    "\n",
    "- **Scalability**: Cassandra is designed for horizontal scalability, allowing it to handle massive amounts of data across multiple nodes, while typical databases often require vertical scaling.\n",
    "\n",
    "- **Availability and Fault Tolerance**: Cassandra ensures high availability and fault tolerance through its decentralized architecture and replication across nodes, whereas typical databases may rely on backup and failover mechanisms.\n",
    "\n",
    "- **Consistency**: Cassandra offers tunable consistency, allowing trade-offs between consistency and availability, while typical databases prioritize strong consistency.\n",
    "\n",
    "- **Write Performance**: Cassandra excels at write-heavy workloads with its log-structured storage design and efficient write operations, whereas typical databases may prioritize read performance.\n",
    "\n",
    "- **Query Language**: Cassandra uses CQL (Cassandra Query Language), which is similar to SQL but lacks certain advanced features found in typical databases.\n",
    "\n",
    "- **Schema Flexibility**: Cassandra allows flexible schemas with the ability to add or modify columns dynamically, whereas typical databases have rigid schemas.\n",
    "\n",
    "- **Transactions**: Cassandra supports lightweight transactions but lacks full ACID compliance, while typical databases provide stronger transactional capabilities.\n",
    "\n",
    "- **Use Cases**: Cassandra is commonly used for large-scale, distributed, and high-velocity data scenarios, such as time-series data, IoT applications, and real-time analytics, while typical databases are often used for structured data and traditional business applications.\n",
    "\n",
    "- **Data Replication**: Cassandra replicates data across multiple nodes using a peer-to-peer replication model, providing fault tolerance and redundancy, whereas typical databases may use master-slave replication or other replication mechanisms.\n"
   ]
  },
  {
   "attachments": {},
   "cell_type": "markdown",
   "metadata": {},
   "source": [
    "2.**What exactly is CQLSH?**\n",
    "- CQLSH (Cassandra Query Language Shell) is a command-line interface (CLI) tool provided by Cassandra for interacting with a Cassandra cluster using CQL (Cassandra Query Language). It serves as a client application that allows users to execute CQL queries and commands directly against a Cassandra database."
   ]
  },
  {
   "attachments": {},
   "cell_type": "markdown",
   "metadata": {},
   "source": [
    "3. **Explain the Cassandra cluster idea.**\n",
    "- The Cassandra cluster concept revolves around distributed data storage and processing across multiple nodes to achieve scalability, fault tolerance, and high availability. Here's an explanation of the Cassandra cluster idea:\n",
    "- Cassandra cluster consists of multiple interconnected nodes for distributed data storage and processing.\n",
    "- Peer-to-peer model with no centralized coordinator or single point of failure.\n",
    "- Data is partitioned and distributed across nodes using consistent hashing.\n",
    "- Built-in replication ensures data redundancy and fault tolerance.\n",
    "- Horizontal scalability by adding more nodes to the cluster.\n",
    "- Tunable consistency levels for balancing consistency and availability.\n",
    "- Cluster topology forms a ring structure for efficient data distribution and query routing.\n",
    "- Automatic load balancing for even data distribution and load across nodes.\n",
    "- Decentralized administration without a central coordinator for easy scalability and administration."
   ]
  },
  {
   "attachments": {},
   "cell_type": "markdown",
   "metadata": {},
   "source": [
    "4. **Give an example to demonstrate the class notion.**\n"
   ]
  },
  {
   "cell_type": "code",
   "execution_count": 3,
   "metadata": {},
   "outputs": [
    {
     "name": "stdout",
     "output_type": "stream",
     "text": [
      "Hello\n"
     ]
    }
   ],
   "source": [
    "class Parent:\n",
    "    static_member_data1:int=2\n",
    "    static_member_data2:int=1\n",
    "    def __init__(self) -> None:\n",
    "        self.instance_member_data=2\n",
    "        self.instance_member_data2='3'\n",
    "    \n",
    "    def member_method(self):\n",
    "        print(\"Hello\")\n",
    "        \n",
    "instance=Parent()\n",
    "instance.instance_member_data\n",
    "instance.member_method()"
   ]
  },
  {
   "attachments": {},
   "cell_type": "markdown",
   "metadata": {},
   "source": [
    "5. **Use an example to explain the object.**\n",
    "   - Everything in python is treated as object.\n",
    "   - and class is a prototype used to instantiate objects."
   ]
  },
  {
   "cell_type": "code",
   "execution_count": null,
   "metadata": {},
   "outputs": [],
   "source": [
    "object1=Parent() #This is an object"
   ]
  },
  {
   "cell_type": "code",
   "execution_count": null,
   "metadata": {},
   "outputs": [],
   "source": []
  }
 ],
 "metadata": {
  "kernelspec": {
   "display_name": "Python 3",
   "language": "python",
   "name": "python3"
  },
  "language_info": {
   "codemirror_mode": {
    "name": "ipython",
    "version": 3
   },
   "file_extension": ".py",
   "mimetype": "text/x-python",
   "name": "python",
   "nbconvert_exporter": "python",
   "pygments_lexer": "ipython3",
   "version": "3.11.4"
  },
  "orig_nbformat": 4
 },
 "nbformat": 4,
 "nbformat_minor": 2
}
